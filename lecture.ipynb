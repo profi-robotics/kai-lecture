{
 "cells": [
  {
   "cell_type": "markdown",
   "id": "7ea26d20",
   "metadata": {
    "slideshow": {
     "slide_type": "slide"
    },
    "tags": [
     "parameters"
    ]
   },
   "source": [
    "# Машинне навчання для промислової робототехніки\n",
    "## Навчання та впровадження моделей комп'ютерного зору для автоматизації\n",
    "\n",
    "---\n",
    "\n",
    "![Промислове компютерне бачення](assets/Vision%20Tech.jpg)\n",
    "\n",
    "*Фото: Промисловий робот з комп'ютерним зором*"
   ]
  },
  {
   "cell_type": "markdown",
   "id": "08c29110",
   "metadata": {
    "slideshow": {
     "slide_type": "slide"
    }
   },
   "source": [
    "## План Заняття\n",
    "\n",
    "Сьогодні ми розглянемо повний робочий процес впровадження машинного зору в промисловій робототехніці:\n",
    "\n",
    "1. **Вступ до МН в промисловій робототехніці**\n",
    "   - Переваги та ключові застосування\n",
    "   - Як МН трансформує традиційні підходи\n",
    "\n",
    "2. **Збір даних та маркування з Roboflow**\n",
    "   - Налаштування проектів\n",
    "   - Створення якісних навчальних наборів даних\n",
    "\n",
    "3. **Завантаження та підготовка наборів даних**\n",
    "   - Структура набору даних для навчання\n",
    "   - Налаштування конфігураційного файлу\n",
    "\n",
    "4. **Локальне навчання моделі комп'ютерного зору**\n",
    "   - Використання YOLOv8 для виявлення об'єктів\n",
    "   - Оптимізація для різного апаратного забезпечення\n",
    "\n",
    "5. **Розгортання для виведення з USB-камерою**\n",
    "   - Виявлення об'єктів у реальному часі\n",
    "   - Аспекти продуктивності\n",
    "\n",
    "6. **Демонстрація та питання-відповіді**\n",
    "   - Жива демонстрація\n",
    "   - Відкрита дискусія"
   ]
  },
  {
   "cell_type": "markdown",
   "id": "4dcd3435",
   "metadata": {
    "slideshow": {
     "slide_type": "slide"
    }
   },
   "source": [
    "## Вступ до МН в промисловій робототехніці\n",
    "\n",
    "Машинне навчання революціонізувало промислову робототехніку, дозволяючи системам \"бачити\" та інтелектуально взаємодіяти з навколишнім середовищем. Розглянемо ключові аспекти:\n",
    "\n",
    "- **Переваги МН в робототехніці**\n",
    "- **Ключові застосування** \n",
    "- **Традиційні підходи у порівнянні з підходами на основі МН**"
   ]
  },
  {
   "cell_type": "markdown",
   "id": "06021e30",
   "metadata": {
    "slideshow": {
     "slide_type": "subslide"
    }
   },
   "source": [
    "### Переваги МН в робототехніці\n",
    "\n",
    "- **Підвищення ефективності**: Скорочення циклу виробництва та збільшення продуктивності\n",
    "  \n",
    "- **Покращена точність**: Підвищення точності виявлення та маніпулювання об'єктами\n",
    "  \n",
    "- **Більша гнучкість**: Адаптація до нових продуктів без перепрограмування\n",
    "  \n",
    "- **Зниження витрат**: Зменшення витрат на робочу силу та відходів через помилки\n",
    "  \n",
    "- **Покращення безпеки**: Краще виявлення людей у робочому просторі"
   ]
  },
  {
   "cell_type": "markdown",
   "id": "5cd2717e",
   "metadata": {
    "slideshow": {
     "slide_type": "subslide"
    }
   },
   "source": [
    "#### Ключові застосування\n",
    "\n",
    "1. **Ідентифікація об'єктів**:\n",
    "   - Розпізнавання різноманітних деталей на виробничій лінії\n",
    "   - Визначення положення об'єктів у 3D-просторі\n",
    "   - Класифікація типів продукції\n",
    "\n",
    "2. **Відстеження об'єктів**:\n",
    "   - Моніторинг руху деталей на виробничій лінії\n",
    "   - Одночасне відстеження декількох об'єктів\n",
    "   - Забезпечення координації між різними роботами\n",
    "\n",
    "3. **Захоплення та розміщення**:\n",
    "   - Визначення оптимальних точок захоплення\n",
    "   - Робота з об'єктами різних форм і розмірів\n",
    "   - Адаптація до змінних умов середовища"
   ]
  },
  {
   "cell_type": "markdown",
   "id": "a4afc078",
   "metadata": {
    "slideshow": {
     "slide_type": "subslide"
    }
   },
   "source": [
    "#### Традиційні підходи vs МН-підходи\n",
    "\n",
    "<div style=\"font-size: 120%;\">\n",
    "<table>\n",
    "<thead>\n",
    "<tr>\n",
    "<th><strong>Аспект</strong></th>\n",
    "<th><strong>Традиційний підхід</strong></th>\n",
    "<th><strong>Підхід на основі МН</strong></th>\n",
    "</tr>\n",
    "</thead>\n",
    "<tbody>\n",
    "<tr>\n",
    "<td><strong>Програмування</strong></td>\n",
    "<td>Жорстко запрограмовані правила</td>\n",
    "<td>Навчання на прикладах</td>\n",
    "</tr>\n",
    "<tr>\n",
    "<td><strong>Адаптивність</strong></td>\n",
    "<td>Обмежена, потребує перепрограмування</td>\n",
    "<td>Висока, адаптується до змін</td>\n",
    "</tr>\n",
    "<tr>\n",
    "<td><strong>Точність</strong></td>\n",
    "<td>Добра в структурованому середовищі</td>\n",
    "<td>Висока навіть у складних умовах</td>\n",
    "</tr>\n",
    "<tr>\n",
    "<td><strong>Розробка</strong></td>\n",
    "<td>Тривала і трудомістка</td>\n",
    "<td>Швидша з існуючими моделями</td>\n",
    "</tr>\n",
    "<tr>\n",
    "<td><strong>Обробка винятків</strong></td>\n",
    "<td>Потребує окремих правил для кожного випадку</td>\n",
    "<td>Узагальнює на основі досвіду</td>\n",
    "</tr>\n",
    "</tbody>\n",
    "</table>\n",
    "</div>"
   ]
  },
  {
   "cell_type": "markdown",
   "id": "a0d5b59a",
   "metadata": {
    "slideshow": {
     "slide_type": "slide"
    }
   },
   "source": [
    "# Збір даних та маркування з Roboflow\n",
    "\n",
    "Перший крок у створенні моделі машинного зору — це збір та маркування навчальних даних. \n",
    "\n",
    "Roboflow — це платформа, яка спрощує цей процес, особливо для початківців.\n",
    "\n",
    "![Roboflow інтерфейс маркування](assets/annotations.png)"
   ]
  },
  {
   "cell_type": "markdown",
   "id": "aec2ef95",
   "metadata": {
    "slideshow": {
     "slide_type": "subslide"
    }
   },
   "source": [
    "# Демонстрація Roboflow"
   ]
  },
  {
   "cell_type": "markdown",
   "id": "cd903df0",
   "metadata": {
    "slideshow": {
     "slide_type": "subslide"
    }
   },
   "source": [
    "## Створення якісних навчальних наборів даних\n",
    "\n",
    "### Збір зображень:\n",
    "\n",
    "- **Методи збору**:\n",
    "  - Знімки з камери робота в реальному середовищі\n",
    "  - Запис відео та вилучення кадрів\n",
    "  - Використання існуючих наборів даних з доповненнями\n",
    "\n",
    "- **Рекомендації для якісних даних**:\n",
    "  - Включіть зображення з різних кутів та відстаней\n",
    "  - Зафіксуйте варіації освітлення\n",
    "  - Включіть різні фони та можливі перешкоди\n",
    "  - Мінімум 50 зображень на клас для простого доказу концепції\n",
    "\n",
    "### Підготовка даних:\n",
    "\n",
    "1. **Маркування зображень**:\n",
    "   - Окреслення обмежувальних рамок навколо об'єктів\n",
    "   - Присвоєння класу (мітки) кожній рамці\n",
    "   - Перегляд та коригування міток за потреби\n",
    "\n",
    "2. **Обробка даних**:\n",
    "   - **Розділення набору даних**: Автоматичний поділ на тренувальну, валідаційну та тестову вибірки\n",
    "   - **Аугментація**: Створення додаткових тренувальних зразків через обертання, віддзеркалення, регулювання яскравості тощо\n",
    "   - **Попередня обробка**: Зміна розміру зображень, коригування кольорів тощо"
   ]
  },
  {
   "cell_type": "markdown",
   "id": "3f12ed93",
   "metadata": {
    "slideshow": {
     "slide_type": "slide"
    }
   },
   "source": [
    "# Завантаження та підготовка наборів даних\n",
    "\n",
    "Після маркування даних у Roboflow, необхідно завантажити їх для локального навчання моделі. Розглянемо як це зробити та підготувати дані для тренування.\n"
   ]
  },
  {
   "cell_type": "markdown",
   "id": "fa0c051a",
   "metadata": {
    "slideshow": {
     "slide_type": "subslide"
    }
   },
   "source": [
    "## Структура набору даних для навчання\n",
    "\n",
    "1. **Структура каталогів YOLO**:\n",
    "   - `/data/назва_проекту/` - основний каталог\n",
    "   - `/train/` - зображення та мітки для навчання\n",
    "   - `/valid/` - зображення та мітки для валідації\n",
    "   - `/test/` - зображення та мітки для тестування\n",
    "\n",
    "2. **Формат міток**:\n",
    "   - Текстові файли `.txt` для кожного зображення\n",
    "   - Кожен рядок містить: `клас x_центр y_центр ширина висота`\n",
    "   - Координати нормалізовані від 0 до 1\n",
    "\n",
    "3. **Організація даних**:\n",
    "   - Зображення: JPG або PNG формати\n",
    "   - Однакове розміщення файлів зображень та міток\n",
    "   - Належне розділення між навчальним, валідаційним та тестовим наборами"
   ]
  },
  {
   "cell_type": "markdown",
   "id": "dc505bf1",
   "metadata": {
    "slideshow": {
     "slide_type": "subslide"
    }
   },
   "source": [
    "## Налаштування конфігураційного файлу\n",
    "\n",
    "1. **Файл data.yaml**:\n",
    "   ```yaml\n",
    "   path: ../data/назва_проекту  # Шлях до набору даних\n",
    "   train: train/images          # Зображення для тренування\n",
    "   val: valid/images            # Зображення для валідації\n",
    "   test: test/images            # Зображення для тестування\n",
    "   \n",
    "   nc: 2                        # Кількість класів\n",
    "   names: ['об'єкт1', 'об'єкт2'] # Назви класів"
   ]
  },
  {
   "cell_type": "markdown",
   "id": "e26ea8ea",
   "metadata": {
    "slideshow": {
     "slide_type": "slide"
    }
   },
   "source": [
    "## Завантаження через Roboflow API\n",
    "\n",
    "Після маркування даних у Roboflow, необхідно завантажити їх для локального навчання моделі. Розглянемо як це зробити та підготувати дані для тренування."
   ]
  },
  {
   "cell_type": "code",
   "execution_count": null,
   "id": "9a306014",
   "metadata": {},
   "outputs": [],
   "source": [
    "# Встановимо або перевіримо наявність бібліотек, які потрібні для роботи\n",
    "%pip install -r requirements.txt"
   ]
  },
  {
   "cell_type": "code",
   "execution_count": null,
   "id": "d26432b6",
   "metadata": {},
   "outputs": [],
   "source": [
    "# Імпортуємо необхідні бібліотеки\n",
    "from roboflow import Roboflow\n",
    "import torch\n",
    "\n",
    "# Перевірка доступності CUDA (не застосовується для Apple Silicon, але корисно включити для портативності)\n",
    "print(f\"Версія PyTorch: {torch.__version__}\")\n",
    "if torch.cuda.is_available():\n",
    "    device = torch.device(\"cuda\")\n",
    "    print(\"Використовується CUDA\")\n",
    "# Перевірка доступності MPS (Metal Performance Shaders) для Apple Silicon\n",
    "elif hasattr(torch.backends, 'mps') and hasattr(torch.backends.mps, 'is_available'):\n",
    "    device = torch.device(\"mps\")\n",
    "    print(\"Використовується MPS (Metal Performance Shaders)\")\n",
    "else:\n",
    "    device = torch.device(\"cpu\")\n",
    "    print(\"MPS не доступний у цій версії PyTorch, використовується CPU\")"
   ]
  },
  {
   "cell_type": "markdown",
   "id": "16aaaa02",
   "metadata": {},
   "source": [
    "### Завантаження даних з Roboflow\n",
    "\n",
    "Щоб завантажити дані з Roboflow, вам знадобиться API-ключ та інформація про проект:"
   ]
  },
  {
   "cell_type": "code",
   "execution_count": null,
   "id": "42cc1506",
   "metadata": {},
   "outputs": [],
   "source": [
    "# Завантаження даних з Roboflow\n",
    "# Зверніть увагу, що для використання Roboflow API вам потрібно зареєструватися на їхньому сайті та отримати API ключ\n",
    "# Зазначте, що ви повинні мати файл .env з вашим API ключем\n",
    "# або ви можете вказати його безпосередньо в коді (не рекомендується з міркувань безпеки)\n",
    "\n",
    "# Також, необхідно вказати назву вашого проекту та версію набору даних\n",
    "import os\n",
    "from dotenv import load_dotenv\n",
    "\n",
    "# Завантаження змінних середовища з файлу .env\n",
    "# Переконайтеся, що у вас є файл .env з вашим API ключем\n",
    "load_dotenv()\n",
    "\n",
    "# Отримання API ключа з змінних середовища\n",
    "api_key = os.getenv('ROBOFLOW_API_KEY')\n",
    "\n",
    "# Визначення версії набору даних\n",
    "dataset_version = 3  # Змініть на вашу фактичну версію набору даних\n",
    "\n",
    "rf = Roboflow(api_key=api_key)\n",
    "project = rf.workspace().project(\"orange-ball-detection\")\n",
    "version = project.version(dataset_version)  # Змініть 1 на ваш фактичний номер версії\n",
    "\n",
    "# Завантаження набору даних у форматі YOLO (сумісний з YOLOv8)\n",
    "dataset = version.download(model_format=\"yolov8\", location=f\"data/robotics_dataset_v{dataset_version}\", overwrite=False)\n",
    "\n",
    "print(\"Завантаження завершено.\")\n",
    "print(\"Набір даних успішно завантажено до:\", dataset.location)"
   ]
  },
  {
   "cell_type": "markdown",
   "id": "4ffc8500",
   "metadata": {},
   "source": [
    "\n",
    "\n",
    "## Локальне навчання моделі комп'ютерного зору\n",
    "\n",
    "Тепер, коли ми підготували наші дані, настав час навчити модель комп'ютерного зору. Ми будемо використовувати базову модель YOLOv8n (YOLOv8 Nano) для виявлення об'єктів. Це легка модель, яка підходить для навчання на комп'ютерах з обмеженими ресурсами, таких як MacBook з M1.\n",
    "\n",
    "### Варіанти навчання\n",
    "\n",
    "1. **Локальне навчання на Mac M1**:\n",
    "   - Підходить для невеликих наборів даних та швидких демонстрацій\n",
    "   - Використовує Metal Performance Shaders (MPS) для прискорення\n",
    "   - Обмежено доступною пам'яттю та обчислювальною потужністю\n",
    "2. **Навчання на (віддаленому) високопродуктивному GPU (рекомендується)**:\n",
    "   - Значно швидше навчання з GPU, такими як NVIDIA 3090Ti\n",
    "   - Може обробляти більші моделі (середні, великі) та більше даних\n",
    "   - Створіть таку ж структуру каталогів на віддаленій машині\n",
    "   - Скопіюйте свій набір даних на віддалену машину\n",
    "   - Запустіть код навчання там і завантажте файл ваги після завершення"
   ]
  },
  {
   "cell_type": "code",
   "execution_count": null,
   "id": "97b66cd5",
   "metadata": {},
   "outputs": [
    {
     "name": "stdout",
     "output_type": "stream",
     "text": [
      "New https://pypi.org/project/ultralytics/8.3.141 available 😃 Update with 'pip install -U ultralytics'\n",
      "\u001b[34m\u001b[1mengine/trainer: \u001b[0magnostic_nms=False, amp=True, augment=False, auto_augment=randaugment, batch=8, bgr=0.0, box=7.5, cache=disk, cfg=None, classes=None, close_mosaic=10, cls=0.5, conf=None, copy_paste=0.0, copy_paste_mode=flip, cos_lr=False, cutmix=0.0, data=/home/levko/repos/kai-lecture/data/robotics_dataset_v3/data.yaml, degrees=0.0, deterministic=True, device=None, dfl=1.5, dnn=False, dropout=0.0, dynamic=False, embed=None, epochs=50, erasing=0.4, exist_ok=False, fliplr=0.5, flipud=0.0, format=torchscript, fraction=1.0, freeze=None, half=False, hsv_h=0.015, hsv_s=0.7, hsv_v=0.4, imgsz=640, int8=False, iou=0.7, keras=False, kobj=1.0, line_width=None, lr0=0.01, lrf=0.01, mask_ratio=4, max_det=300, mixup=0.0, mode=train, model=yolov8n.pt, momentum=0.937, mosaic=1.0, multi_scale=False, name=robotics_mode_v33, nbs=64, nms=False, opset=None, optimize=False, optimizer=auto, overlap_mask=True, patience=5, perspective=0.0, plots=True, pose=12.0, pretrained=True, profile=False, project=models, rect=False, resume=False, retina_masks=False, save=True, save_conf=False, save_crop=False, save_dir=models/robotics_mode_v33, save_frames=False, save_json=False, save_period=1, save_txt=False, scale=0.5, seed=0, shear=0.0, show=False, show_boxes=True, show_conf=True, show_labels=True, simplify=True, single_cls=False, source=None, split=val, stream_buffer=False, task=detect, time=None, tracker=botsort.yaml, translate=0.1, val=True, verbose=True, vid_stride=1, visualize=False, warmup_bias_lr=0.1, warmup_epochs=3.0, warmup_momentum=0.8, weight_decay=0.0005, workers=2, workspace=None\n",
      "Overriding model.yaml nc=80 with nc=1\n",
      "\n",
      "                   from  n    params  module                                       arguments                     \n",
      "  0                  -1  1       464  ultralytics.nn.modules.conv.Conv             [3, 16, 3, 2]                 \n",
      "  1                  -1  1      4672  ultralytics.nn.modules.conv.Conv             [16, 32, 3, 2]                \n",
      "  2                  -1  1      7360  ultralytics.nn.modules.block.C2f             [32, 32, 1, True]             \n",
      "  3                  -1  1     18560  ultralytics.nn.modules.conv.Conv             [32, 64, 3, 2]                \n",
      "  4                  -1  2     49664  ultralytics.nn.modules.block.C2f             [64, 64, 2, True]             \n",
      "  5                  -1  1     73984  ultralytics.nn.modules.conv.Conv             [64, 128, 3, 2]               \n",
      "  6                  -1  2    197632  ultralytics.nn.modules.block.C2f             [128, 128, 2, True]           \n",
      "  7                  -1  1    295424  ultralytics.nn.modules.conv.Conv             [128, 256, 3, 2]              \n",
      "  8                  -1  1    460288  ultralytics.nn.modules.block.C2f             [256, 256, 1, True]           \n",
      "  9                  -1  1    164608  ultralytics.nn.modules.block.SPPF            [256, 256, 5]                 \n",
      " 10                  -1  1         0  torch.nn.modules.upsampling.Upsample         [None, 2, 'nearest']          \n",
      " 11             [-1, 6]  1         0  ultralytics.nn.modules.conv.Concat           [1]                           \n",
      " 12                  -1  1    148224  ultralytics.nn.modules.block.C2f             [384, 128, 1]                 \n",
      " 13                  -1  1         0  torch.nn.modules.upsampling.Upsample         [None, 2, 'nearest']          \n",
      " 14             [-1, 4]  1         0  ultralytics.nn.modules.conv.Concat           [1]                           \n",
      " 15                  -1  1     37248  ultralytics.nn.modules.block.C2f             [192, 64, 1]                  \n",
      " 16                  -1  1     36992  ultralytics.nn.modules.conv.Conv             [64, 64, 3, 2]                \n",
      " 17            [-1, 12]  1         0  ultralytics.nn.modules.conv.Concat           [1]                           \n",
      " 18                  -1  1    123648  ultralytics.nn.modules.block.C2f             [192, 128, 1]                 \n",
      " 19                  -1  1    147712  ultralytics.nn.modules.conv.Conv             [128, 128, 3, 2]              \n",
      " 20             [-1, 9]  1         0  ultralytics.nn.modules.conv.Concat           [1]                           \n",
      " 21                  -1  1    493056  ultralytics.nn.modules.block.C2f             [384, 256, 1]                 \n",
      " 22        [15, 18, 21]  1    751507  ultralytics.nn.modules.head.Detect           [1, [64, 128, 256]]           \n",
      "Model summary: 129 layers, 3,011,043 parameters, 3,011,027 gradients, 8.2 GFLOPs\n",
      "\n",
      "Transferred 319/355 items from pretrained weights\n",
      "Freezing layer 'model.22.dfl.conv.weight'\n",
      "\u001b[34m\u001b[1mAMP: \u001b[0mrunning Automatic Mixed Precision (AMP) checks...\n",
      "\u001b[34m\u001b[1mAMP: \u001b[0mchecks passed ✅\n",
      "\u001b[34m\u001b[1mtrain: \u001b[0mFast image access ✅ (ping: 0.0±0.0 ms, read: 6508.3±1569.7 MB/s, size: 217.8 KB)\n"
     ]
    },
    {
     "name": "stderr",
     "output_type": "stream",
     "text": [
      "\u001b[34m\u001b[1mtrain: \u001b[0mScanning /home/levko/repos/kai-lecture/data/robotics_dataset_v3/train/labels.cache... 1043 images, 161 backgrounds, 0 corrupt: 100%|██████████| 1043/1043 [00:00<?, ?it/s]\n",
      "\u001b[34m\u001b[1mtrain: \u001b[0mCaching images (6.0GB Disk): 100%|██████████| 1043/1043 [00:00<00:00, 77680.57it/s]\n"
     ]
    },
    {
     "name": "stdout",
     "output_type": "stream",
     "text": [
      "\u001b[34m\u001b[1mval: \u001b[0mFast image access ✅ (ping: 0.0±0.0 ms, read: 3322.0±1971.7 MB/s, size: 228.4 KB)\n"
     ]
    },
    {
     "name": "stderr",
     "output_type": "stream",
     "text": [
      "\u001b[34m\u001b[1mval: \u001b[0mScanning /home/levko/repos/kai-lecture/data/robotics_dataset_v3/valid/labels.cache... 346 images, 46 backgrounds, 0 corrupt: 100%|██████████| 346/346 [00:00<?, ?it/s]\n",
      "\u001b[34m\u001b[1mval: \u001b[0mCaching images (2.0GB Disk): 100%|██████████| 346/346 [00:00<00:00, 55284.92it/s]\n"
     ]
    },
    {
     "name": "stdout",
     "output_type": "stream",
     "text": [
      "Plotting labels to models/robotics_mode_v33/labels.jpg... \n",
      "\u001b[34m\u001b[1moptimizer:\u001b[0m 'optimizer=auto' found, ignoring 'lr0=0.01' and 'momentum=0.937' and determining best 'optimizer', 'lr0' and 'momentum' automatically... \n",
      "\u001b[34m\u001b[1moptimizer:\u001b[0m AdamW(lr=0.002, momentum=0.9) with parameter groups 57 weight(decay=0.0), 64 weight(decay=0.0005), 63 bias(decay=0.0)\n",
      "Image sizes 640 train, 640 val\n",
      "Using 2 dataloader workers\n",
      "Logging results to \u001b[1mmodels/robotics_mode_v33\u001b[0m\n",
      "Starting training for 50 epochs...\n",
      "\n",
      "      Epoch    GPU_mem   box_loss   cls_loss   dfl_loss  Instances       Size\n"
     ]
    },
    {
     "name": "stderr",
     "output_type": "stream",
     "text": [
      "       1/50      1.15G     0.5401      1.031     0.8389         13        640: 100%|██████████| 131/131 [00:06<00:00, 18.93it/s]\n",
      "                 Class     Images  Instances      Box(P          R      mAP50  mAP50-95): 100%|██████████| 22/22 [00:01<00:00, 21.73it/s]"
     ]
    },
    {
     "name": "stdout",
     "output_type": "stream",
     "text": [
      "                   all        346       1584      0.954      0.924      0.922      0.847\n"
     ]
    },
    {
     "name": "stderr",
     "output_type": "stream",
     "text": [
      "\n"
     ]
    },
    {
     "name": "stdout",
     "output_type": "stream",
     "text": [
      "\n",
      "      Epoch    GPU_mem   box_loss   cls_loss   dfl_loss  Instances       Size\n"
     ]
    },
    {
     "name": "stderr",
     "output_type": "stream",
     "text": [
      "       2/50       1.2G     0.4688     0.5215     0.8199         37        640: 100%|██████████| 131/131 [00:06<00:00, 20.32it/s]\n",
      "                 Class     Images  Instances      Box(P          R      mAP50  mAP50-95): 100%|██████████| 22/22 [00:01<00:00, 21.65it/s]"
     ]
    },
    {
     "name": "stdout",
     "output_type": "stream",
     "text": [
      "                   all        346       1584      0.985      0.934      0.951      0.872\n"
     ]
    },
    {
     "name": "stderr",
     "output_type": "stream",
     "text": [
      "\n"
     ]
    },
    {
     "name": "stdout",
     "output_type": "stream",
     "text": [
      "\n",
      "      Epoch    GPU_mem   box_loss   cls_loss   dfl_loss  Instances       Size\n"
     ]
    },
    {
     "name": "stderr",
     "output_type": "stream",
     "text": [
      "       3/50       1.2G     0.4783     0.4823     0.8261         25        640: 100%|██████████| 131/131 [00:06<00:00, 20.70it/s]\n",
      "                 Class     Images  Instances      Box(P          R      mAP50  mAP50-95): 100%|██████████| 22/22 [00:00<00:00, 22.23it/s]\n"
     ]
    },
    {
     "name": "stdout",
     "output_type": "stream",
     "text": [
      "                   all        346       1584      0.986      0.939      0.953      0.831\n",
      "\n",
      "      Epoch    GPU_mem   box_loss   cls_loss   dfl_loss  Instances       Size\n"
     ]
    },
    {
     "name": "stderr",
     "output_type": "stream",
     "text": [
      "       4/50       1.2G     0.4805     0.4533     0.8194         28        640: 100%|██████████| 131/131 [00:06<00:00, 20.74it/s]\n",
      "                 Class     Images  Instances      Box(P          R      mAP50  mAP50-95): 100%|██████████| 22/22 [00:00<00:00, 22.72it/s]\n"
     ]
    },
    {
     "name": "stdout",
     "output_type": "stream",
     "text": [
      "                   all        346       1584      0.987      0.939      0.954      0.902\n",
      "\n",
      "      Epoch    GPU_mem   box_loss   cls_loss   dfl_loss  Instances       Size\n"
     ]
    },
    {
     "name": "stderr",
     "output_type": "stream",
     "text": [
      "       5/50      1.21G     0.4518     0.4077     0.8201         20        640: 100%|██████████| 131/131 [00:06<00:00, 21.04it/s]\n",
      "                 Class     Images  Instances      Box(P          R      mAP50  mAP50-95): 100%|██████████| 22/22 [00:00<00:00, 23.98it/s]"
     ]
    },
    {
     "name": "stdout",
     "output_type": "stream",
     "text": [
      "                   all        346       1584      0.995      0.937      0.954      0.884\n"
     ]
    },
    {
     "name": "stderr",
     "output_type": "stream",
     "text": [
      "\n"
     ]
    },
    {
     "name": "stdout",
     "output_type": "stream",
     "text": [
      "\n",
      "      Epoch    GPU_mem   box_loss   cls_loss   dfl_loss  Instances       Size\n"
     ]
    },
    {
     "name": "stderr",
     "output_type": "stream",
     "text": [
      "       6/50      1.21G     0.4205     0.3898     0.8127         20        640: 100%|██████████| 131/131 [00:06<00:00, 20.83it/s]\n",
      "                 Class     Images  Instances      Box(P          R      mAP50  mAP50-95): 100%|██████████| 22/22 [00:00<00:00, 23.32it/s]"
     ]
    },
    {
     "name": "stdout",
     "output_type": "stream",
     "text": [
      "                   all        346       1584      0.994      0.931      0.954      0.896\n"
     ]
    },
    {
     "name": "stderr",
     "output_type": "stream",
     "text": [
      "\n"
     ]
    },
    {
     "name": "stdout",
     "output_type": "stream",
     "text": [
      "\n",
      "      Epoch    GPU_mem   box_loss   cls_loss   dfl_loss  Instances       Size\n"
     ]
    },
    {
     "name": "stderr",
     "output_type": "stream",
     "text": [
      "       7/50      1.21G     0.4074     0.3466     0.8112         18        640: 100%|██████████| 131/131 [00:06<00:00, 21.17it/s]\n",
      "                 Class     Images  Instances      Box(P          R      mAP50  mAP50-95): 100%|██████████| 22/22 [00:00<00:00, 24.07it/s]"
     ]
    },
    {
     "name": "stdout",
     "output_type": "stream",
     "text": [
      "                   all        346       1584      0.989       0.94      0.956      0.911\n"
     ]
    },
    {
     "name": "stderr",
     "output_type": "stream",
     "text": [
      "\n"
     ]
    },
    {
     "name": "stdout",
     "output_type": "stream",
     "text": [
      "\n",
      "      Epoch    GPU_mem   box_loss   cls_loss   dfl_loss  Instances       Size\n"
     ]
    },
    {
     "name": "stderr",
     "output_type": "stream",
     "text": [
      "       8/50      1.21G     0.3701     0.3181     0.8044         17        640: 100%|██████████| 131/131 [00:06<00:00, 20.91it/s]\n",
      "                 Class     Images  Instances      Box(P          R      mAP50  mAP50-95): 100%|██████████| 22/22 [00:00<00:00, 24.20it/s]"
     ]
    },
    {
     "name": "stdout",
     "output_type": "stream",
     "text": [
      "                   all        346       1584      0.981      0.942      0.958      0.929\n"
     ]
    },
    {
     "name": "stderr",
     "output_type": "stream",
     "text": [
      "\n"
     ]
    },
    {
     "name": "stdout",
     "output_type": "stream",
     "text": [
      "\n",
      "      Epoch    GPU_mem   box_loss   cls_loss   dfl_loss  Instances       Size\n"
     ]
    },
    {
     "name": "stderr",
     "output_type": "stream",
     "text": [
      "       9/50      1.21G     0.3818      0.311     0.8039         23        640: 100%|██████████| 131/131 [00:06<00:00, 21.04it/s]\n",
      "                 Class     Images  Instances      Box(P          R      mAP50  mAP50-95): 100%|██████████| 22/22 [00:01<00:00, 21.15it/s]"
     ]
    },
    {
     "name": "stdout",
     "output_type": "stream",
     "text": [
      "                   all        346       1584      0.989      0.942      0.966      0.934\n"
     ]
    },
    {
     "name": "stderr",
     "output_type": "stream",
     "text": [
      "\n"
     ]
    },
    {
     "name": "stdout",
     "output_type": "stream",
     "text": [
      "\n",
      "      Epoch    GPU_mem   box_loss   cls_loss   dfl_loss  Instances       Size\n"
     ]
    },
    {
     "name": "stderr",
     "output_type": "stream",
     "text": [
      "      10/50      1.21G     0.3596     0.2959      0.802         28        640: 100%|██████████| 131/131 [00:06<00:00, 20.59it/s]\n",
      "                 Class     Images  Instances      Box(P          R      mAP50  mAP50-95): 100%|██████████| 22/22 [00:00<00:00, 23.48it/s]"
     ]
    },
    {
     "name": "stdout",
     "output_type": "stream",
     "text": [
      "                   all        346       1584      0.984      0.944       0.96      0.926\n"
     ]
    },
    {
     "name": "stderr",
     "output_type": "stream",
     "text": [
      "\n"
     ]
    },
    {
     "name": "stdout",
     "output_type": "stream",
     "text": [
      "\n",
      "      Epoch    GPU_mem   box_loss   cls_loss   dfl_loss  Instances       Size\n"
     ]
    },
    {
     "name": "stderr",
     "output_type": "stream",
     "text": [
      "      11/50      1.21G     0.3713     0.2953     0.8058         50        640: 100%|██████████| 131/131 [00:06<00:00, 21.00it/s]\n",
      "                 Class     Images  Instances      Box(P          R      mAP50  mAP50-95): 100%|██████████| 22/22 [00:00<00:00, 23.47it/s]"
     ]
    },
    {
     "name": "stdout",
     "output_type": "stream",
     "text": [
      "                   all        346       1584      0.984      0.946      0.958       0.92\n"
     ]
    },
    {
     "name": "stderr",
     "output_type": "stream",
     "text": [
      "\n"
     ]
    },
    {
     "name": "stdout",
     "output_type": "stream",
     "text": [
      "\n",
      "      Epoch    GPU_mem   box_loss   cls_loss   dfl_loss  Instances       Size\n"
     ]
    },
    {
     "name": "stderr",
     "output_type": "stream",
     "text": [
      "      12/50      1.21G     0.3569     0.2879     0.8024         14        640: 100%|██████████| 131/131 [00:06<00:00, 19.95it/s]\n",
      "                 Class     Images  Instances      Box(P          R      mAP50  mAP50-95): 100%|██████████| 22/22 [00:00<00:00, 24.43it/s]"
     ]
    },
    {
     "name": "stdout",
     "output_type": "stream",
     "text": [
      "                   all        346       1584       0.99      0.938      0.968      0.937\n"
     ]
    },
    {
     "name": "stderr",
     "output_type": "stream",
     "text": [
      "\n"
     ]
    },
    {
     "name": "stdout",
     "output_type": "stream",
     "text": [
      "\n",
      "      Epoch    GPU_mem   box_loss   cls_loss   dfl_loss  Instances       Size\n"
     ]
    },
    {
     "name": "stderr",
     "output_type": "stream",
     "text": [
      "      13/50      1.21G     0.3443     0.2743     0.8009         21        640: 100%|██████████| 131/131 [00:06<00:00, 21.08it/s]\n",
      "                 Class     Images  Instances      Box(P          R      mAP50  mAP50-95): 100%|██████████| 22/22 [00:00<00:00, 24.40it/s]"
     ]
    },
    {
     "name": "stdout",
     "output_type": "stream",
     "text": [
      "                   all        346       1584      0.988      0.942      0.961      0.933\n"
     ]
    },
    {
     "name": "stderr",
     "output_type": "stream",
     "text": [
      "\n"
     ]
    },
    {
     "name": "stdout",
     "output_type": "stream",
     "text": [
      "\n",
      "      Epoch    GPU_mem   box_loss   cls_loss   dfl_loss  Instances       Size\n"
     ]
    },
    {
     "name": "stderr",
     "output_type": "stream",
     "text": [
      "      14/50      1.21G     0.3473     0.2695     0.8041         21        640: 100%|██████████| 131/131 [00:06<00:00, 20.79it/s]\n",
      "                 Class     Images  Instances      Box(P          R      mAP50  mAP50-95): 100%|██████████| 22/22 [00:00<00:00, 23.12it/s]"
     ]
    },
    {
     "name": "stdout",
     "output_type": "stream",
     "text": [
      "                   all        346       1584      0.985      0.947      0.962      0.931\n"
     ]
    },
    {
     "name": "stderr",
     "output_type": "stream",
     "text": [
      "\n"
     ]
    },
    {
     "name": "stdout",
     "output_type": "stream",
     "text": [
      "\n",
      "      Epoch    GPU_mem   box_loss   cls_loss   dfl_loss  Instances       Size\n"
     ]
    },
    {
     "name": "stderr",
     "output_type": "stream",
     "text": [
      "      15/50      1.21G      0.344     0.2633     0.7992         26        640: 100%|██████████| 131/131 [00:06<00:00, 20.36it/s]\n",
      "                 Class     Images  Instances      Box(P          R      mAP50  mAP50-95): 100%|██████████| 22/22 [00:00<00:00, 23.96it/s]"
     ]
    },
    {
     "name": "stdout",
     "output_type": "stream",
     "text": [
      "                   all        346       1584       0.99      0.942      0.966      0.936\n"
     ]
    },
    {
     "name": "stderr",
     "output_type": "stream",
     "text": [
      "\n"
     ]
    },
    {
     "name": "stdout",
     "output_type": "stream",
     "text": [
      "\n",
      "      Epoch    GPU_mem   box_loss   cls_loss   dfl_loss  Instances       Size\n"
     ]
    },
    {
     "name": "stderr",
     "output_type": "stream",
     "text": [
      "      16/50      1.21G     0.3298     0.2558     0.7982         18        640: 100%|██████████| 131/131 [00:06<00:00, 20.09it/s]\n",
      "                 Class     Images  Instances      Box(P          R      mAP50  mAP50-95): 100%|██████████| 22/22 [00:00<00:00, 23.90it/s]"
     ]
    },
    {
     "name": "stdout",
     "output_type": "stream",
     "text": [
      "                   all        346       1584      0.983      0.947      0.968      0.936\n"
     ]
    },
    {
     "name": "stderr",
     "output_type": "stream",
     "text": [
      "\n"
     ]
    },
    {
     "name": "stdout",
     "output_type": "stream",
     "text": [
      "\n",
      "      Epoch    GPU_mem   box_loss   cls_loss   dfl_loss  Instances       Size\n"
     ]
    },
    {
     "name": "stderr",
     "output_type": "stream",
     "text": [
      "      17/50      1.25G     0.3233     0.2488     0.7989         25        640: 100%|██████████| 131/131 [00:06<00:00, 21.10it/s]\n",
      "                 Class     Images  Instances      Box(P          R      mAP50  mAP50-95): 100%|██████████| 22/22 [00:00<00:00, 24.25it/s]"
     ]
    },
    {
     "name": "stdout",
     "output_type": "stream",
     "text": [
      "                   all        346       1584      0.994      0.942      0.971      0.944\n"
     ]
    },
    {
     "name": "stderr",
     "output_type": "stream",
     "text": [
      "\n"
     ]
    },
    {
     "name": "stdout",
     "output_type": "stream",
     "text": [
      "\n",
      "      Epoch    GPU_mem   box_loss   cls_loss   dfl_loss  Instances       Size\n"
     ]
    },
    {
     "name": "stderr",
     "output_type": "stream",
     "text": [
      "      18/50      1.25G     0.3142     0.2458     0.7979         17        640: 100%|██████████| 131/131 [00:06<00:00, 20.17it/s]\n",
      "                 Class     Images  Instances      Box(P          R      mAP50  mAP50-95): 100%|██████████| 22/22 [00:00<00:00, 22.26it/s]"
     ]
    },
    {
     "name": "stdout",
     "output_type": "stream",
     "text": [
      "                   all        346       1584      0.989      0.939      0.965      0.927\n"
     ]
    },
    {
     "name": "stderr",
     "output_type": "stream",
     "text": [
      "\n"
     ]
    },
    {
     "name": "stdout",
     "output_type": "stream",
     "text": [
      "\n",
      "      Epoch    GPU_mem   box_loss   cls_loss   dfl_loss  Instances       Size\n"
     ]
    },
    {
     "name": "stderr",
     "output_type": "stream",
     "text": [
      "      19/50      1.25G      0.328     0.2499     0.8018         46        640: 100%|██████████| 131/131 [00:06<00:00, 20.95it/s]\n",
      "                 Class     Images  Instances      Box(P          R      mAP50  mAP50-95): 100%|██████████| 22/22 [00:00<00:00, 22.67it/s]"
     ]
    },
    {
     "name": "stdout",
     "output_type": "stream",
     "text": [
      "                   all        346       1584      0.989      0.945      0.966      0.935\n"
     ]
    },
    {
     "name": "stderr",
     "output_type": "stream",
     "text": [
      "\n"
     ]
    },
    {
     "name": "stdout",
     "output_type": "stream",
     "text": [
      "\n",
      "      Epoch    GPU_mem   box_loss   cls_loss   dfl_loss  Instances       Size\n"
     ]
    },
    {
     "name": "stderr",
     "output_type": "stream",
     "text": [
      "      20/50      1.25G     0.3383     0.2534     0.8022         44        640: 100%|██████████| 131/131 [00:06<00:00, 20.64it/s]\n",
      "                 Class     Images  Instances      Box(P          R      mAP50  mAP50-95): 100%|██████████| 22/22 [00:00<00:00, 23.83it/s]"
     ]
    },
    {
     "name": "stdout",
     "output_type": "stream",
     "text": [
      "                   all        346       1584      0.993      0.944      0.969      0.937\n"
     ]
    },
    {
     "name": "stderr",
     "output_type": "stream",
     "text": [
      "\n"
     ]
    },
    {
     "name": "stdout",
     "output_type": "stream",
     "text": [
      "\n",
      "      Epoch    GPU_mem   box_loss   cls_loss   dfl_loss  Instances       Size\n"
     ]
    },
    {
     "name": "stderr",
     "output_type": "stream",
     "text": [
      "      21/50      1.25G      0.317     0.2415     0.7968         32        640: 100%|██████████| 131/131 [00:06<00:00, 20.48it/s]\n",
      "                 Class     Images  Instances      Box(P          R      mAP50  mAP50-95): 100%|██████████| 22/22 [00:00<00:00, 23.21it/s]"
     ]
    },
    {
     "name": "stdout",
     "output_type": "stream",
     "text": [
      "                   all        346       1584      0.993      0.944      0.967      0.934\n"
     ]
    },
    {
     "name": "stderr",
     "output_type": "stream",
     "text": [
      "\n"
     ]
    },
    {
     "name": "stdout",
     "output_type": "stream",
     "text": [
      "\n",
      "      Epoch    GPU_mem   box_loss   cls_loss   dfl_loss  Instances       Size\n"
     ]
    },
    {
     "name": "stderr",
     "output_type": "stream",
     "text": [
      "      22/50      1.25G     0.3062      0.231     0.7955         11        640: 100%|██████████| 131/131 [00:06<00:00, 20.24it/s]\n",
      "                 Class     Images  Instances      Box(P          R      mAP50  mAP50-95): 100%|██████████| 22/22 [00:00<00:00, 22.86it/s]"
     ]
    },
    {
     "name": "stdout",
     "output_type": "stream",
     "text": [
      "                   all        346       1584      0.987      0.946      0.975      0.952\n"
     ]
    },
    {
     "name": "stderr",
     "output_type": "stream",
     "text": [
      "\n"
     ]
    },
    {
     "name": "stdout",
     "output_type": "stream",
     "text": [
      "\n",
      "      Epoch    GPU_mem   box_loss   cls_loss   dfl_loss  Instances       Size\n"
     ]
    },
    {
     "name": "stderr",
     "output_type": "stream",
     "text": [
      "      23/50      1.25G     0.3051     0.2279     0.7993         14        640: 100%|██████████| 131/131 [00:06<00:00, 20.71it/s]\n",
      "                 Class     Images  Instances      Box(P          R      mAP50  mAP50-95): 100%|██████████| 22/22 [00:00<00:00, 24.57it/s]"
     ]
    },
    {
     "name": "stdout",
     "output_type": "stream",
     "text": [
      "                   all        346       1584      0.996      0.943       0.97      0.942\n"
     ]
    },
    {
     "name": "stderr",
     "output_type": "stream",
     "text": [
      "\n"
     ]
    },
    {
     "name": "stdout",
     "output_type": "stream",
     "text": [
      "\n",
      "      Epoch    GPU_mem   box_loss   cls_loss   dfl_loss  Instances       Size\n"
     ]
    },
    {
     "name": "stderr",
     "output_type": "stream",
     "text": [
      "      24/50      1.25G     0.3107     0.2307     0.7951         33        640: 100%|██████████| 131/131 [00:06<00:00, 20.73it/s]\n",
      "                 Class     Images  Instances      Box(P          R      mAP50  mAP50-95): 100%|██████████| 22/22 [00:00<00:00, 23.42it/s]"
     ]
    },
    {
     "name": "stdout",
     "output_type": "stream",
     "text": [
      "                   all        346       1584       0.99      0.944      0.957      0.927\n"
     ]
    },
    {
     "name": "stderr",
     "output_type": "stream",
     "text": [
      "\n"
     ]
    },
    {
     "name": "stdout",
     "output_type": "stream",
     "text": [
      "\n",
      "      Epoch    GPU_mem   box_loss   cls_loss   dfl_loss  Instances       Size\n"
     ]
    },
    {
     "name": "stderr",
     "output_type": "stream",
     "text": [
      "      25/50      1.25G     0.3115     0.2303      0.801         26        640: 100%|██████████| 131/131 [00:06<00:00, 20.99it/s]\n",
      "                 Class     Images  Instances      Box(P          R      mAP50  mAP50-95): 100%|██████████| 22/22 [00:00<00:00, 25.17it/s]"
     ]
    },
    {
     "name": "stdout",
     "output_type": "stream",
     "text": [
      "                   all        346       1584      0.987      0.949      0.975      0.952\n"
     ]
    },
    {
     "name": "stderr",
     "output_type": "stream",
     "text": [
      "\n"
     ]
    },
    {
     "name": "stdout",
     "output_type": "stream",
     "text": [
      "\n",
      "      Epoch    GPU_mem   box_loss   cls_loss   dfl_loss  Instances       Size\n"
     ]
    },
    {
     "name": "stderr",
     "output_type": "stream",
     "text": [
      "      26/50      1.25G        0.3     0.2249     0.7953         42        640: 100%|██████████| 131/131 [00:06<00:00, 20.70it/s]\n",
      "                 Class     Images  Instances      Box(P          R      mAP50  mAP50-95): 100%|██████████| 22/22 [00:00<00:00, 23.14it/s]"
     ]
    },
    {
     "name": "stdout",
     "output_type": "stream",
     "text": [
      "                   all        346       1584      0.987      0.949      0.966      0.938\n"
     ]
    },
    {
     "name": "stderr",
     "output_type": "stream",
     "text": [
      "\n"
     ]
    },
    {
     "name": "stdout",
     "output_type": "stream",
     "text": [
      "\n",
      "      Epoch    GPU_mem   box_loss   cls_loss   dfl_loss  Instances       Size\n"
     ]
    },
    {
     "name": "stderr",
     "output_type": "stream",
     "text": [
      "      27/50      1.25G      0.292     0.2184     0.7937         17        640: 100%|██████████| 131/131 [00:06<00:00, 21.20it/s]\n",
      "                 Class     Images  Instances      Box(P          R      mAP50  mAP50-95): 100%|██████████| 22/22 [00:00<00:00, 24.07it/s]"
     ]
    },
    {
     "name": "stdout",
     "output_type": "stream",
     "text": [
      "                   all        346       1584      0.989      0.947      0.977      0.955\n"
     ]
    },
    {
     "name": "stderr",
     "output_type": "stream",
     "text": [
      "\n"
     ]
    },
    {
     "name": "stdout",
     "output_type": "stream",
     "text": [
      "\n",
      "      Epoch    GPU_mem   box_loss   cls_loss   dfl_loss  Instances       Size\n"
     ]
    },
    {
     "name": "stderr",
     "output_type": "stream",
     "text": [
      "      28/50      1.31G     0.2918     0.2175     0.7961          7        640: 100%|██████████| 131/131 [00:06<00:00, 20.94it/s]\n",
      "                 Class     Images  Instances      Box(P          R      mAP50  mAP50-95): 100%|██████████| 22/22 [00:00<00:00, 23.76it/s]"
     ]
    },
    {
     "name": "stdout",
     "output_type": "stream",
     "text": [
      "                   all        346       1584      0.981      0.955      0.974       0.95\n"
     ]
    },
    {
     "name": "stderr",
     "output_type": "stream",
     "text": [
      "\n"
     ]
    },
    {
     "name": "stdout",
     "output_type": "stream",
     "text": [
      "\n",
      "      Epoch    GPU_mem   box_loss   cls_loss   dfl_loss  Instances       Size\n"
     ]
    },
    {
     "name": "stderr",
     "output_type": "stream",
     "text": [
      "      29/50      1.31G     0.2906      0.214     0.7919         35        640: 100%|██████████| 131/131 [00:06<00:00, 21.11it/s]\n",
      "                 Class     Images  Instances      Box(P          R      mAP50  mAP50-95): 100%|██████████| 22/22 [00:00<00:00, 25.39it/s]"
     ]
    },
    {
     "name": "stdout",
     "output_type": "stream",
     "text": [
      "                   all        346       1584       0.99      0.947      0.977      0.953\n"
     ]
    },
    {
     "name": "stderr",
     "output_type": "stream",
     "text": [
      "\n"
     ]
    },
    {
     "name": "stdout",
     "output_type": "stream",
     "text": [
      "\n",
      "      Epoch    GPU_mem   box_loss   cls_loss   dfl_loss  Instances       Size\n"
     ]
    },
    {
     "name": "stderr",
     "output_type": "stream",
     "text": [
      "      30/50      1.31G     0.2898      0.214     0.7937         23        640: 100%|██████████| 131/131 [00:06<00:00, 21.20it/s]\n",
      "                 Class     Images  Instances      Box(P          R      mAP50  mAP50-95): 100%|██████████| 22/22 [00:00<00:00, 23.59it/s]"
     ]
    },
    {
     "name": "stdout",
     "output_type": "stream",
     "text": [
      "                   all        346       1584      0.991      0.946      0.975      0.954\n"
     ]
    },
    {
     "name": "stderr",
     "output_type": "stream",
     "text": [
      "\n"
     ]
    },
    {
     "name": "stdout",
     "output_type": "stream",
     "text": [
      "\n",
      "      Epoch    GPU_mem   box_loss   cls_loss   dfl_loss  Instances       Size\n"
     ]
    },
    {
     "name": "stderr",
     "output_type": "stream",
     "text": [
      "      31/50      1.31G     0.2838     0.2059     0.7938         30        640: 100%|██████████| 131/131 [00:06<00:00, 20.21it/s]\n",
      "                 Class     Images  Instances      Box(P          R      mAP50  mAP50-95): 100%|██████████| 22/22 [00:00<00:00, 22.89it/s]"
     ]
    },
    {
     "name": "stdout",
     "output_type": "stream",
     "text": [
      "                   all        346       1584      0.987      0.949      0.972      0.949\n"
     ]
    },
    {
     "name": "stderr",
     "output_type": "stream",
     "text": [
      "\n"
     ]
    },
    {
     "name": "stdout",
     "output_type": "stream",
     "text": [
      "\n",
      "      Epoch    GPU_mem   box_loss   cls_loss   dfl_loss  Instances       Size\n"
     ]
    },
    {
     "name": "stderr",
     "output_type": "stream",
     "text": [
      "      32/50      1.31G     0.2831     0.2051     0.7907         16        640: 100%|██████████| 131/131 [00:06<00:00, 20.52it/s]\n",
      "                 Class     Images  Instances      Box(P          R      mAP50  mAP50-95): 100%|██████████| 22/22 [00:00<00:00, 25.86it/s]"
     ]
    },
    {
     "name": "stdout",
     "output_type": "stream",
     "text": [
      "                   all        346       1584      0.984      0.952      0.976      0.955\n",
      "\u001b[34m\u001b[1mEarlyStopping: \u001b[0mTraining stopped early as no improvement observed in last 5 epochs. Best results observed at epoch 27, best model saved as best.pt.\n",
      "To update EarlyStopping(patience=5) pass a new patience value, i.e. `patience=300` or use `patience=0` to disable EarlyStopping.\n"
     ]
    },
    {
     "name": "stderr",
     "output_type": "stream",
     "text": [
      "\n"
     ]
    },
    {
     "name": "stdout",
     "output_type": "stream",
     "text": [
      "\n",
      "32 epochs completed in 0.066 hours.\n",
      "Optimizer stripped from models/robotics_mode_v33/weights/last.pt, 6.2MB\n",
      "Optimizer stripped from models/robotics_mode_v33/weights/best.pt, 6.2MB\n",
      "\n",
      "Validating models/robotics_mode_v33/weights/best.pt...\n",
      "Ultralytics 8.3.140 🚀 Python-3.8.10 torch-2.4.1+cu121 CUDA:0 (NVIDIA GeForce RTX 3090 Ti, 24090MiB)\n",
      "Model summary (fused): 72 layers, 3,005,843 parameters, 0 gradients, 8.1 GFLOPs\n"
     ]
    },
    {
     "name": "stderr",
     "output_type": "stream",
     "text": [
      "                 Class     Images  Instances      Box(P          R      mAP50  mAP50-95): 100%|██████████| 22/22 [00:02<00:00,  8.53it/s]\n"
     ]
    },
    {
     "name": "stdout",
     "output_type": "stream",
     "text": [
      "                   all        346       1584      0.989      0.947      0.977      0.955\n",
      "Speed: 0.1ms preprocess, 0.5ms inference, 0.0ms loss, 1.0ms postprocess per image\n",
      "Results saved to \u001b[1mmodels/robotics_mode_v33\u001b[0m\n",
      "Навчання завершено! Модель збережено в ./models/robotics_model_v3/weights/best.pt\n"
     ]
    }
   ],
   "source": [
    "# Імпортуємо необхідні бібліотеки\n",
    "from ultralytics import YOLO\n",
    "\n",
    "# Налаштування шляху до файлу data.yaml\n",
    "# Зазначте, що YOLOv8 автоматично генерує data.yaml файл під час завантаження набору даних\n",
    "data_yaml = f\"{dataset.location}/data.yaml\"\n",
    "\n",
    "# Для локального навчання на Mac M1 (для демонстраційних цілей)\n",
    "# Ініціалізуємо попередньо навчену модель YOLOv8n (маленький розмір для швидшого навчання)\n",
    "model = YOLO('yolov8n.pt')\n",
    "\n",
    "# Тренування моделі\n",
    "# Зверніть увагу, що для реального навчання вам слід використовувати більше епох\n",
    "# та налаштувати параметри навчання відповідно до ваших потреб\n",
    "# Для демонстраційних цілей ми зменшили кількість епох до 10\n",
    "results = model.train(\n",
    "    data=data_yaml,     # Шлях до файлу data.yaml\n",
    "    epochs=50,          # Кількість епох\n",
    "    patience=5,         # Кількість епох без покращення для ранньої зупинки\n",
    "    imgsz=640,          # Розмір зображення (640px)\n",
    "    save_period=1,      # Зберігати модель кожну епоху\n",
    "    device=device,      # Пристрій для навчання (визначили вище)\n",
    "    batch=8,            # Розмір пакету (налаштуйте на основі RAM)\n",
    "    workers=2,          # Кількість потоків для завантаження даних\n",
    "    cache='disk',       # Кешувати зображення для швидшого навчання\n",
    "    project=\"models\",   # Назва проекту для збереження результатів\n",
    "    name=f\"robotics_model_v{dataset_version}\",  # Назва моделі \n",
    "    amp=True            # Увімкнути змішану точність для швидкості та економії пам'яті\n",
    ")\n",
    "\n",
    "print(f\"Навчання завершено! Модель збережено в ./models/robotics_model_v{dataset_version}/weights/best.pt\")"
   ]
  },
  {
   "cell_type": "markdown",
   "id": "bf9c7a76",
   "metadata": {},
   "source": [
    "### Поради та оптимізація навчання\n",
    "\n",
    "#### Для Apple Silicon\n",
    "\n",
    "1. **Використовуйте прискорення MPS**: PyTorch 2.0+ підтримує Metal Performance Shaders (MPS) для Mac M1/M2.\n",
    "\n",
    "2. **Оптимізація розміру пакету**: Почніть з розміру пакету 16 та коригуйте відповідно до доступної пам'яті.\n",
    "\n",
    "3. **Вибір розміру моделі**: Використовуйте менші моделі, такі як YOLOv8n або YOLOv8s, для швидшого локального навчання.\n",
    "\n",
    "4. **Кешування даних**: Використовуйте параметр `cache=True` для прискорення навчання.\n",
    "\n",
    "#### Для NVIDIA 3090Ti або інших GPU\n",
    "\n",
    "1. **Більший розмір пакету**: Використовуйте розміри пакетів 32 або 64, щоб повністю використовувати пам'ять GPU.\n",
    "\n",
    "2. **Кілька робочих потоків**: Збільште значення `workers` до 8 або 16 для швидшого завантаження даних.\n",
    "\n",
    "3. **Більші моделі**: Використовуйте переваги потужного GPU, застосовуючи моделі YOLOv8m або YOLOv8l.\n",
    "\n",
    "4. **Змішана точність**: Додайте `amp=True` для використання навчання зі змішаною точністю для кращої продуктивності.\n",
    "\n",
    "5. **Більше епох**: Навчайте модель протягом 50-100 епох для кращої конвергенції.\n",
    "\n",
    "#### Загальні поради\n",
    "\n",
    "1. **Трансферне навчання**: Ми використовуємо попередньо навчені моделі та дооптимізуємо їх, що значно пришвидшує навчання.\n",
    "\n",
    "2. **Аугментація зображень**: Використовуйте можливості аугментації Roboflow для збільшення різноманітності набору даних."
   ]
  },
  {
   "cell_type": "markdown",
   "id": "8f02015e",
   "metadata": {},
   "source": [
    "## Deploying the Model for Inference with a USB Camera\n",
    "## Запуск моделі з USB-камерою\n",
    "\n",
    "З натренованою моделлю ми можемо використовувати її для виявлення об'єктів у реальному часі за допомогою USB-камери."
   ]
  },
  {
   "cell_type": "code",
   "execution_count": null,
   "id": "df098668",
   "metadata": {},
   "outputs": [],
   "source": [
    "# Імпортуємо необхідні бібліотеки\n",
    "# Примітка: цей код призначений для запуску в окремому Python скрипті, а не в Jupyter\n",
    "import cv2\n",
    "import time\n",
    "from ultralytics import YOLO\n",
    "import argparse\n",
    "\n",
    "# Зберемо шлях до моделі\n",
    "model_path = f\"./models/robotics_model_v{dataset_version}/weights/best.pt\"\n",
    "\n",
    "# Функція для запуску об'єктного виявлення на USB-камері\n",
    "def main():\n",
    "    parser = argparse.ArgumentParser(description='Запуск об\\'єктного виявлення на USB-камері')\n",
    "    parser.add_argument('--model', type=str, default='yolov8n.pt', \n",
    "                        help='Шлях до моделі YOLOv8')\n",
    "    parser.add_argument('--conf', type=float, default=0.25, \n",
    "                        help='Поріг впевненості для виявлення об\\'єктів')\n",
    "    parser.add_argument('--camera', type=int, default=0, \n",
    "                        help='Індекс камери (зазвичай 0 для вбудованої, 1 для USB)')\n",
    "    args = parser.parse_args()\n",
    "\n",
    "    # Завантаження моделі\n",
    "    try:\n",
    "        model = YOLO(args.model)\n",
    "        print(f\"Завантажено модель з {args.model}\")\n",
    "    except Exception as e:\n",
    "        print(f\"Помилка при завантаженні моделі: {e}\")\n",
    "        return\n",
    "\n",
    "    # Відкриття камери\n",
    "    cap = cv2.VideoCapture(args.camera)\n",
    "    if not cap.isOpened():\n",
    "        print(f\"Помилка: Не вдалося відкрити камеру з індексом {args.camera}\")\n",
    "        print(\"Спробуйте інший індекс камери, використовуючи аргумент --camera\")\n",
    "        return\n",
    "\n",
    "    # Налаштування параметрів камери\n",
    "    cap.set(cv2.CAP_PROP_FRAME_WIDTH, 640)\n",
    "    cap.set(cv2.CAP_PROP_FRAME_HEIGHT, 480)\n",
    "\n",
    "    print(\"Камера успішно відкрита. Натисніть 'q', щоб вийти.\")\n",
    "\n",
    "    # Змінні для обчислення FPS\n",
    "    fps = 0\n",
    "    frame_count = 0\n",
    "    start_time = time.time()\n",
    "    \n",
    "    while True:\n",
    "        # Зчитування кадру з камери\n",
    "        ret, frame = cap.read()\n",
    "        if not ret:\n",
    "            print(\"Помилка: Не вдалося зчитати зображення з камери\")\n",
    "            break\n",
    "\n",
    "        # Збільшення лічильника кадрів  \n",
    "        frame_count += 1\n",
    "\n",
    "        # Виконання інференсу\n",
    "        results = model(frame, conf=args.conf)\n",
    "\n",
    "        # Обробка результатів\n",
    "        annotated_frame = results[0].plot()\n",
    "\n",
    "        # Обчислення FPS\n",
    "        elapsed_time = time.time() - start_time\n",
    "        if elapsed_time >= 1.0:\n",
    "            fps = frame_count / elapsed_time\n",
    "            frame_count = 0\n",
    "            start_time = time.time()\n",
    "            \n",
    "        cv2.putText(annotated_frame, f\"FPS: {fps:.2f}\", (10, 30), \n",
    "                    cv2.FONT_HERSHEY_SIMPLEX, 1, (0, 255, 0), 2)\n",
    "        \n",
    "        # Відображення кадру\n",
    "        cv2.imshow('Об\\'єктне виявлення', annotated_frame)\n",
    "        \n",
    "        # Вихід з циклу при натисканні 'q'\n",
    "        if cv2.waitKey(1) & 0xFF == ord('q'):\n",
    "            break\n",
    "\n",
    "    # Завершення роботи\n",
    "    cap.release()\n",
    "    cv2.destroyAllWindows()\n",
    "\n",
    "if __name__ == '__main__':\n",
    "    main()"
   ]
  },
  {
   "cell_type": "markdown",
   "id": "a1a906db",
   "metadata": {},
   "source": [
    "## Запуск скрипта для виведення\n",
    "\n",
    "Щоб запустити скрипт виведення з вашою USB-камерою:\n",
    "\n",
    "1. Переконайтеся, що ваше віртуальне середовище активоване:\n",
    "   ```\n",
    "   source venv/bin/activate  # На macOS/Linux\n",
    "   ```\n",
    "   або\n",
    "   ```\n",
    "   venv\\Scripts\\activate  # На Windows\n",
    "   ```\n",
    "2. Запустіть скрипт з терміналу:\n",
    "   ```\n",
    "   python run_robot_vision.py\n",
    "   ```\n",
    "3. Ви можете налаштувати поведінку за допомогою цих параметрів:\n",
    "   - Щоб використовувати певну камеру: `--camera 1` \n",
    "   - Щоб використовувати вашу натреновану модель: `--model ./models/robotics_model/weights/best.pt`\n",
    "   - Щоб налаштувати впевненість виявлення: `--conf 0.4`\n",
    "\n",
    "Для прикладу:\n",
    "\n",
    "```\n",
    "python run_robot_vision.py --camera 1 --model ./models/robotics_model/weights/best.pt --conf 0.4\n",
    "```\n",
    "\n",
    "Якщо у вас виникають проблеми з індексом камери, спробуйте різні значення (0, 1, 2 тощо), поки не знайдете те, що відповідає вашій USB-камері."
   ]
  },
  {
   "cell_type": "markdown",
   "id": "9bded456",
   "metadata": {},
   "source": [
    "## Висновок та наступні кроки\n",
    "\n",
    "Вітаємо! Тепер ви успішно:\n",
    "\n",
    "1. ✅ Дізналися, як машинне навчання може покращити завдання промислової робототехніки  \n",
    "2. ✅ Створили й проанотували набір даних за допомогою Roboflow  \n",
    "3. ✅ Підготували дані для локального навчання  \n",
    "4. ✅ Навчили власну модель комп’ютерного зору, оптимізовану для вашого M1 Mac  \n",
    "5. ✅ Розгорнули модель для реального часу з USB-камерою  \n",
    "\n",
    "### Що робити далі\n",
    "\n",
    "Тепер, коли у вас є базові навички, ось кілька шляхів для подальшого розвитку:\n",
    "\n",
    "1. **Створіть більший набір даних**: спробуйте зібрати більше знімків у різних умовах освітлення та під різними кутами, щоб підвищити стійкість моделі.  \n",
    "2. **Експериментуйте з різними моделями**: YOLOv8 доступний у різних розмірах (nano, small, medium, large). Навчіть той самий набір даних на різних архітектурах і порівняйте швидкість та точність. Також спробуйте інші моделі YOLO (наприклад, YOLOv11). \n",
    "3. **Оптимізація швидкодії**: досліджуйте методи квантизації або обрізки (pruning), щоб модель працювала ще швидше на низько ресурсних пристроях які будуть встановлені безпосередньо біля роботів.  \n",
    "4. **Налаштування мультикамерної системи**: для більш складних застосунків встановіть кілька камер для отримання різних ракурсів тієї самої сцени.  \n",
    "\n",
    "### Корисні ресурси\n",
    "\n",
    "- [Документація Ultralytics YOLOv8](https://docs.ultralytics.com/) — детальні поради щодо роботи з моделлю  \n",
    "- [Документація Roboflow](https://docs.roboflow.com/) — розширені прийоми аугментації та розмітки даних  \n",
    "- [Документація PyTorch](https://pytorch.org/docs/) — щоб зрозуміти фреймворк глибинного навчання  \n",
    "- [OpenCV Python Tutorials](https://docs.opencv.org/master/d6/d00/tutorial_py_root.html) — для просунутих операцій комп’ютерного зору  \n",
    "\n",
    "Не забувайте тримати віртуальне середовище активним під час роботи над проєктом та не соромтеся експериментувати з моделлю на різних об’єктах!  \n"
   ]
  }
 ],
 "metadata": {
  "kernelspec": {
   "display_name": "Python 3 (ipykernel)",
   "language": "python",
   "name": "python3"
  },
  "language_info": {
   "codemirror_mode": {
    "name": "ipython",
    "version": 3
   },
   "file_extension": ".py",
   "mimetype": "text/x-python",
   "name": "python",
   "nbconvert_exporter": "python",
   "pygments_lexer": "ipython3",
   "version": "3.8.10"
  },
  "rise": {
   "height": "100%",
   "scroll": false,
   "transition": "fade",
   "width": "100%"
  }
 },
 "nbformat": 4,
 "nbformat_minor": 5
}
